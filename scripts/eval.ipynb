{
  "cells": [
    {
      "cell_type": "code",
      "execution_count": null,
      "metadata": {
        "colab": {
          "base_uri": "https://localhost:8080/"
        },
        "id": "ykWhm24dfcNa",
        "outputId": "3f23c7d7-5289-4c86-9dc4-16e77e6d7e34"
      },
      "outputs": [
        {
          "output_type": "stream",
          "name": "stdout",
          "text": [
            "Thu Apr 25 04:10:27 2024       \n",
            "+---------------------------------------------------------------------------------------+\n",
            "| NVIDIA-SMI 535.104.05             Driver Version: 535.104.05   CUDA Version: 12.2     |\n",
            "|-----------------------------------------+----------------------+----------------------+\n",
            "| GPU  Name                 Persistence-M | Bus-Id        Disp.A | Volatile Uncorr. ECC |\n",
            "| Fan  Temp   Perf          Pwr:Usage/Cap |         Memory-Usage | GPU-Util  Compute M. |\n",
            "|                                         |                      |               MIG M. |\n",
            "|=========================================+======================+======================|\n",
            "|   0  NVIDIA L4                      Off | 00000000:00:03.0 Off |                    0 |\n",
            "| N/A   38C    P8              12W /  72W |      1MiB / 23034MiB |      0%      Default |\n",
            "|                                         |                      |                  N/A |\n",
            "+-----------------------------------------+----------------------+----------------------+\n",
            "                                                                                         \n",
            "+---------------------------------------------------------------------------------------+\n",
            "| Processes:                                                                            |\n",
            "|  GPU   GI   CI        PID   Type   Process name                            GPU Memory |\n",
            "|        ID   ID                                                             Usage      |\n",
            "|=======================================================================================|\n",
            "|  No running processes found                                                           |\n",
            "+---------------------------------------------------------------------------------------+\n"
          ]
        }
      ],
      "source": [
        "!nvidia-smi"
      ]
    },
    {
      "cell_type": "code",
      "execution_count": null,
      "metadata": {
        "id": "crX1xuYZoIdQ"
      },
      "outputs": [],
      "source": [
        "!huggingface-cli login"
      ]
    },
    {
      "cell_type": "code",
      "execution_count": null,
      "metadata": {
        "id": "fjICPovXfdpC"
      },
      "outputs": [],
      "source": [
        "!pip install sacrebleu\n",
        "!pip install transformers\n",
        "!pip install datasets\n",
        "!pip install evaluate\n",
        "!pip install accelerate\n",
        "!pip install transformers torch"
      ]
    },
    {
      "cell_type": "code",
      "execution_count": null,
      "metadata": {
        "id": "z86gx_1MfTq0"
      },
      "outputs": [],
      "source": [
        "import transformers\n",
        "import evaluate\n",
        "from datasets import load_dataset, Dataset\n",
        "from transformers import AutoTokenizer, AutoModelForSeq2SeqLM\n",
        "import tqdm"
      ]
    },
    {
      "cell_type": "code",
      "execution_count": null,
      "metadata": {
        "id": "nY1ayabMfb15"
      },
      "outputs": [],
      "source": [
        "en_dataset = load_dataset(\"facebook/flores\", 'eng_Latn')\n",
        "ko_dataset = load_dataset(\"facebook/flores\", 'kor_Hang')"
      ]
    },
    {
      "cell_type": "code",
      "execution_count": null,
      "metadata": {
        "id": "HkxXSGompib3"
      },
      "outputs": [],
      "source": [
        "model = AutoModelForSeq2SeqLM.from_pretrained('dhtocks/nllb_350M_en_ko_v16', forced_bos_token_id=256098)\n",
        "tokenizer = AutoTokenizer.from_pretrained('facebook/nllb-200-distilled-600M', src_lang='eng_Latn', tgt_lang='kor_Hang')"
      ]
    },
    {
      "cell_type": "code",
      "source": [
        "model.push_to_hub('dhtocks/nllb-200-distilled-350M_en-ko')\n",
        "tokenizer.push_to_hub('dhtocks/nllb-200-distilled-350M_en-ko')"
      ],
      "metadata": {
        "id": "ghHuS4Htm0cI"
      },
      "execution_count": null,
      "outputs": []
    },
    {
      "cell_type": "code",
      "execution_count": null,
      "metadata": {
        "id": "A1XRiNzMr8lJ"
      },
      "outputs": [],
      "source": [
        "model.to('cuda')\n",
        "\n",
        "chrf_metric = evaluate.load(\"chrf\")\n",
        "\n",
        "reference = ko_dataset['devtest']['sentence']"
      ]
    },
    {
      "cell_type": "code",
      "execution_count": null,
      "metadata": {
        "colab": {
          "base_uri": "https://localhost:8080/"
        },
        "id": "oECCpr2BugTd",
        "outputId": "120ad7a2-121e-4892-ceb5-ac9b62015ada"
      },
      "outputs": [
        {
          "output_type": "stream",
          "name": "stderr",
          "text": [
            "100%|██████████| 1012/1012 [04:45<00:00,  3.55it/s]\n"
          ]
        }
      ],
      "source": [
        "prediction = []\n",
        "\n",
        "for sentence in tqdm.tqdm(en_dataset['devtest']['sentence']):\n",
        "  output = model.generate(\n",
        "      **tokenizer(sentence, return_tensors='pt').to('cuda'),\n",
        "      )\n",
        "  output = tokenizer.decode(output[0][2:-1])\n",
        "  prediction.append(output)"
      ]
    },
    {
      "cell_type": "code",
      "execution_count": null,
      "metadata": {
        "id": "1qwUl5gPnJE5"
      },
      "outputs": [],
      "source": [
        "chrf_metric.add_batch(\n",
        "    predictions=prediction,\n",
        "    references=reference\n",
        ")"
      ]
    },
    {
      "cell_type": "code",
      "source": [
        "# 350M version 17\n",
        "chrf_metric.compute()"
      ],
      "metadata": {
        "colab": {
          "base_uri": "https://localhost:8080/"
        },
        "id": "5dHvk8eTfS0T",
        "outputId": "c6d2b1e8-b810-46c7-845b-d1dac0f30c20"
      },
      "execution_count": null,
      "outputs": [
        {
          "output_type": "execute_result",
          "data": {
            "text/plain": [
              "{'score': 24.274139172918925, 'char_order': 6, 'word_order': 0, 'beta': 2}"
            ]
          },
          "metadata": {},
          "execution_count": 24
        }
      ]
    },
    {
      "cell_type": "code",
      "source": [
        "# 350M version 16\n",
        "chrf_metric.compute()"
      ],
      "metadata": {
        "colab": {
          "base_uri": "https://localhost:8080/"
        },
        "id": "w_sLHfmtzCOV",
        "outputId": "687e281f-579e-4c3b-cff8-572524200051"
      },
      "execution_count": null,
      "outputs": [
        {
          "output_type": "execute_result",
          "data": {
            "text/plain": [
              "{'score': 24.599586125227415, 'char_order': 6, 'word_order': 0, 'beta': 2}"
            ]
          },
          "metadata": {},
          "execution_count": 10
        }
      ]
    },
    {
      "cell_type": "code",
      "source": [
        "# 350M version 15\n",
        "chrf_metric.compute()"
      ],
      "metadata": {
        "colab": {
          "base_uri": "https://localhost:8080/"
        },
        "id": "sR9vOh3Pez0Y",
        "outputId": "f2a9361f-efaf-4e01-be3a-c9a86a353f28"
      },
      "execution_count": null,
      "outputs": [
        {
          "output_type": "execute_result",
          "data": {
            "text/plain": [
              "{'score': 24.49728214000074, 'char_order': 6, 'word_order': 0, 'beta': 2}"
            ]
          },
          "metadata": {},
          "execution_count": 11
        }
      ]
    },
    {
      "cell_type": "code",
      "source": [
        "# 350M version 14\n",
        "chrf_metric.compute()"
      ],
      "metadata": {
        "colab": {
          "base_uri": "https://localhost:8080/"
        },
        "id": "qUYV4yY02vPH",
        "outputId": "59e321db-b9a7-4f09-e4ab-80568e194529"
      },
      "execution_count": null,
      "outputs": [
        {
          "output_type": "execute_result",
          "data": {
            "text/plain": [
              "{'score': 24.359070918781132, 'char_order': 6, 'word_order': 0, 'beta': 2}"
            ]
          },
          "metadata": {},
          "execution_count": 11
        }
      ]
    },
    {
      "cell_type": "code",
      "source": [
        "# 350M version 13\n",
        "chrf_metric.compute()"
      ],
      "metadata": {
        "colab": {
          "base_uri": "https://localhost:8080/"
        },
        "id": "8-EIcMT8XbTJ",
        "outputId": "ad21f4d0-6ba7-4a6c-f372-adffbb795612"
      },
      "execution_count": null,
      "outputs": [
        {
          "output_type": "execute_result",
          "data": {
            "text/plain": [
              "{'score': 24.221030386088948, 'char_order': 6, 'word_order': 0, 'beta': 2}"
            ]
          },
          "metadata": {},
          "execution_count": 10
        }
      ]
    },
    {
      "cell_type": "code",
      "execution_count": null,
      "metadata": {
        "colab": {
          "background_save": true
        },
        "id": "Tt6Sll73oHxy",
        "outputId": "ca782d97-9173-4af2-8719-0474ad8d3490"
      },
      "outputs": [
        {
          "data": {
            "text/plain": [
              "{'score': 23.939728358184023, 'char_order': 6, 'word_order': 0, 'beta': 2}"
            ]
          },
          "execution_count": 10,
          "metadata": {},
          "output_type": "execute_result"
        }
      ],
      "source": [
        "# 350M version 12\n",
        "chrf_metric.compute()"
      ]
    },
    {
      "cell_type": "code",
      "execution_count": null,
      "metadata": {
        "colab": {
          "base_uri": "https://localhost:8080/"
        },
        "id": "F_e74t9umYHy",
        "outputId": "14080ada-c51f-4258-9e8a-03f41ad0a72b"
      },
      "outputs": [
        {
          "data": {
            "text/plain": [
              "{'score': 22.94382841706375, 'char_order': 6, 'word_order': 0, 'beta': 2}"
            ]
          },
          "execution_count": 10,
          "metadata": {},
          "output_type": "execute_result"
        }
      ],
      "source": [
        "# 350M version 11\n",
        "chrf_metric.compute()"
      ]
    },
    {
      "cell_type": "code",
      "execution_count": null,
      "metadata": {
        "colab": {
          "base_uri": "https://localhost:8080/"
        },
        "id": "mmfNp450tUvl",
        "outputId": "3b10ab5f-682e-470c-e209-cc432477a5a7"
      },
      "outputs": [
        {
          "data": {
            "text/plain": [
              "{'score': 23.02948865358899, 'char_order': 6, 'word_order': 0, 'beta': 2}"
            ]
          },
          "execution_count": 10,
          "metadata": {},
          "output_type": "execute_result"
        }
      ],
      "source": [
        "# 350M version 10\n",
        "chrf_metric.compute()"
      ]
    },
    {
      "cell_type": "code",
      "execution_count": null,
      "metadata": {
        "colab": {
          "base_uri": "https://localhost:8080/"
        },
        "id": "CEkxDrKwj5AD",
        "outputId": "0707dd1d-95c0-4308-d1d2-1002090a5ecf"
      },
      "outputs": [
        {
          "data": {
            "text/plain": [
              "{'score': 24.19937362296625, 'char_order': 6, 'word_order': 0, 'beta': 2}"
            ]
          },
          "execution_count": 24,
          "metadata": {},
          "output_type": "execute_result"
        }
      ],
      "source": [
        "# 350M version 9\n",
        "chrf_metric.compute()"
      ]
    },
    {
      "cell_type": "code",
      "execution_count": null,
      "metadata": {
        "colab": {
          "base_uri": "https://localhost:8080/"
        },
        "id": "zLHMGubHgngk",
        "outputId": "2b6168f8-71ef-4f81-f492-37cd3c1d8cc2"
      },
      "outputs": [
        {
          "data": {
            "text/plain": [
              "{'score': 23.068994459736473, 'char_order': 6, 'word_order': 0, 'beta': 2}"
            ]
          },
          "execution_count": 30,
          "metadata": {},
          "output_type": "execute_result"
        }
      ],
      "source": [
        "# 350M version 8\n",
        "chrf_metric.compute()"
      ]
    },
    {
      "cell_type": "code",
      "execution_count": null,
      "metadata": {
        "colab": {
          "base_uri": "https://localhost:8080/"
        },
        "id": "kzx4D_ukXcm8",
        "outputId": "43e867a2-6009-4f47-f67b-0d4e7b6891ad"
      },
      "outputs": [
        {
          "data": {
            "text/plain": [
              "{'score': 22.97857717358495, 'char_order': 6, 'word_order': 0, 'beta': 2}"
            ]
          },
          "execution_count": 17,
          "metadata": {},
          "output_type": "execute_result"
        }
      ],
      "source": [
        "# 350M version 7\n",
        "chrf_metric.compute()"
      ]
    },
    {
      "cell_type": "code",
      "execution_count": null,
      "metadata": {
        "colab": {
          "base_uri": "https://localhost:8080/"
        },
        "id": "YiGouu-hX9UU",
        "outputId": "30563dfd-2465-4b09-90e9-d69bbb808395"
      },
      "outputs": [
        {
          "data": {
            "text/plain": [
              "{'score': 19.34948549223352, 'char_order': 6, 'word_order': 0, 'beta': 2}"
            ]
          },
          "execution_count": 20,
          "metadata": {},
          "output_type": "execute_result"
        }
      ],
      "source": [
        "# 350M version 6\n",
        "chrf_metric.compute()"
      ]
    },
    {
      "cell_type": "code",
      "execution_count": null,
      "metadata": {
        "colab": {
          "base_uri": "https://localhost:8080/"
        },
        "id": "gY5qzLV0-BhY",
        "outputId": "0cda3ac1-fdb2-4566-f7e8-e6eb6a6fe963"
      },
      "outputs": [
        {
          "data": {
            "text/plain": [
              "{'score': 22.85667045185904, 'char_order': 6, 'word_order': 0, 'beta': 2}"
            ]
          },
          "execution_count": 10,
          "metadata": {},
          "output_type": "execute_result"
        }
      ],
      "source": [
        "# 350M version 5\n",
        "chrf_metric.compute()"
      ]
    },
    {
      "cell_type": "code",
      "execution_count": null,
      "metadata": {
        "colab": {
          "base_uri": "https://localhost:8080/"
        },
        "id": "MvrdcMByZolL",
        "outputId": "9217cf05-d9a6-41b4-9540-c39906cf0443"
      },
      "outputs": [
        {
          "data": {
            "text/plain": [
              "{'score': 22.550107951081323, 'char_order': 6, 'word_order': 0, 'beta': 2}"
            ]
          },
          "execution_count": 15,
          "metadata": {},
          "output_type": "execute_result"
        }
      ],
      "source": [
        "# 350M version 4\n",
        "chrf_metric.compute()"
      ]
    },
    {
      "cell_type": "code",
      "execution_count": null,
      "metadata": {
        "colab": {
          "base_uri": "https://localhost:8080/"
        },
        "id": "yZ0BJe__X7hx",
        "outputId": "b48acfbe-83dd-4675-ab6d-328af9ae7cb7"
      },
      "outputs": [
        {
          "data": {
            "text/plain": [
              "{'score': 22.073264420152082, 'char_order': 6, 'word_order': 0, 'beta': 2}"
            ]
          },
          "execution_count": 13,
          "metadata": {},
          "output_type": "execute_result"
        }
      ],
      "source": [
        "# 350M version 3\n",
        "chrf_metric.compute()"
      ]
    },
    {
      "cell_type": "code",
      "execution_count": null,
      "metadata": {
        "colab": {
          "base_uri": "https://localhost:8080/"
        },
        "id": "uwn2RYiEaWhv",
        "outputId": "7bd351b6-b30b-43b6-fbbf-183bd72a9ccb"
      },
      "outputs": [
        {
          "data": {
            "text/plain": [
              "{'score': 19.888532416933476, 'char_order': 6, 'word_order': 0, 'beta': 2}"
            ]
          },
          "execution_count": 15,
          "metadata": {},
          "output_type": "execute_result"
        }
      ],
      "source": [
        "# 350M version 2\n",
        "chrf_metric.compute()"
      ]
    },
    {
      "cell_type": "code",
      "execution_count": null,
      "metadata": {
        "colab": {
          "base_uri": "https://localhost:8080/"
        },
        "id": "Rf8upTLioS8G",
        "outputId": "67e57e11-1725-4fd0-f88b-c373299af2f8"
      },
      "outputs": [
        {
          "data": {
            "text/plain": [
              "{'score': 17.782546735381224, 'char_order': 6, 'word_order': 0, 'beta': 2}"
            ]
          },
          "execution_count": 75,
          "metadata": {},
          "output_type": "execute_result"
        }
      ],
      "source": [
        "# 350M version 1\n",
        "chrf_metric.compute()"
      ]
    },
    {
      "cell_type": "code",
      "execution_count": null,
      "metadata": {
        "colab": {
          "base_uri": "https://localhost:8080/"
        },
        "id": "qrKSPFMaRE8h",
        "outputId": "66c1f46f-44b0-42dd-cc82-43fc77515a57"
      },
      "outputs": [
        {
          "data": {
            "text/plain": [
              "{'score': 32.00114704976276, 'char_order': 6, 'word_order': 0, 'beta': 2}"
            ]
          },
          "execution_count": 80,
          "metadata": {},
          "output_type": "execute_result"
        }
      ],
      "source": [
        "# 600M\n",
        "chrf_metric.compute()"
      ]
    },
    {
      "cell_type": "code",
      "source": [],
      "metadata": {
        "id": "gaY73VwKJ9nd"
      },
      "execution_count": null,
      "outputs": []
    }
  ],
  "metadata": {
    "colab": {
      "machine_shape": "hm",
      "provenance": [],
      "gpuType": "L4"
    },
    "kernelspec": {
      "display_name": "Python 3",
      "name": "python3"
    },
    "language_info": {
      "name": "python"
    },
    "accelerator": "GPU"
  },
  "nbformat": 4,
  "nbformat_minor": 0
}